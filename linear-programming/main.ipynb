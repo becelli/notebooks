{
 "cells": [
  {
   "cell_type": "code",
   "execution_count": 36,
   "metadata": {},
   "outputs": [],
   "source": [
    "from typing import Tuple\n",
    "import numpy as np\n",
    "\n",
    "def simplex_method(c: np.ndarray, A: np.ndarray, b: np.ndarray) -> Tuple[np.ndarray, float]:\n",
    "    # Obter o número de restrições (linhas) e o número de variáveis (colunas)\n",
    "    cols, num_values = A.shape\n",
    "    num_slack_vars = cols\n",
    "    \n",
    "    # Adicionar variáveis de folga para converter as restrições para a forma padrão\n",
    "    A = np.hstack([A, np.eye(cols)])\n",
    "    c = np.hstack([c, np.zeros(num_slack_vars)])\n",
    "    b = b.copy().astype(float)\n",
    "    \n",
    "    # Inicializar a base com as variáveis de folga\n",
    "    basis = [i + num_values for i in range(cols)]\n",
    "    \n",
    "    # Loop principal do método simplex\n",
    "    while True:\n",
    "        # Calcular cb (custo das variáveis básicas)\n",
    "        cb = np.array([c[j] for j in basis])\n",
    "        # Calcular a matriz dos coeficientes reduzidos z\n",
    "        z = cb @ np.linalg.inv(A[:, basis]) @ A\n",
    "        # Calcular cj - zj para determinar a variável de entrada\n",
    "        cj_zj = c - z\n",
    "        \n",
    "        # Se todos os valores de cj_zj forem negativos ou zero, a solução atual é ótima\n",
    "        if np.all(cj_zj <= 0):\n",
    "            break\n",
    "\n",
    "        # Determinar a variável de entrada (maior valor positivo em cj - zj)\n",
    "        entering = np.argmax(cj_zj).astype(int)\n",
    "        # Calcular as razões para determinar a variável de saída\n",
    "        ratios = np.array([b[i] / A[i, entering] if A[i, entering] > 0 else np.inf for i in range(cols)])\n",
    "        exiting = np.argmin(ratios)\n",
    "        # Atualizar a base\n",
    "        basis[exiting] = entering\n",
    "        \n",
    "        # Pivotear em torno da variável de entrada e saída\n",
    "        b[exiting] /= A[exiting, entering]\n",
    "        A[exiting, :] /= A[exiting, entering]\n",
    "        for col in range(cols):\n",
    "            if col == exiting:\n",
    "                continue\n",
    "            ratio = A[col, entering]\n",
    "            b[col] -= ratio * b[exiting]\n",
    "            A[col, :] -= ratio * A[exiting, :]\n",
    "\n",
    "    # Extrair os valores de todas as variáveis do resultado\n",
    "    variables = np.zeros(num_values + num_slack_vars)\n",
    "    for i, var_idx in enumerate(basis):\n",
    "        variables[var_idx] = b[i]\n",
    "\n",
    "    # Calcular o valor da função objetivo\n",
    "    objective = float(cb @ b)\n",
    "    return variables, objective\n"
   ]
  },
  {
   "cell_type": "code",
   "execution_count": 37,
   "metadata": {},
   "outputs": [],
   "source": [
    "from scipy.optimize import linprog\n",
    "\n",
    "def solve_simplex(c: np.ndarray, A: np.ndarray, b: np.ndarray):\n",
    "    solution, value = simplex_method(c, A, b)\n",
    "    print(f'O - Solution: {solution}, Optimal value: {value}')\n",
    "\n",
    "def solve_scipy(c: np.ndarray, A: np.ndarray, b: np.ndarray):\n",
    "    # Note: linprog tries to minimize, not maximize, so we negate c\n",
    "    bounds = [(0, None), (0, None)]\n",
    "\n",
    "    result = linprog(-c, A_ub=A, b_ub=b, bounds=bounds)\n",
    "\n",
    "    result_x = result.x\n",
    "    result_fun = -result.fun  # We negate to get the maximized value\n",
    "    result_s = result.slack\n",
    "    result_concat = np.concatenate([result_x, result_s])\n",
    "    print(f'S - Solution: {result_concat}, Optimal value: {result_fun}')\n",
    "    # print(result)"
   ]
  },
  {
   "cell_type": "code",
   "execution_count": 38,
   "metadata": {},
   "outputs": [
    {
     "name": "stdout",
     "output_type": "stream",
     "text": [
      "O - Solution: [3. 3. 0. 0. 3.], Optimal value: 24.0\n",
      "S - Solution: [3. 3. 0. 0. 3.], Optimal value: 24.0\n"
     ]
    }
   ],
   "source": [
    "# Example problem\n",
    "# Maximize z = 3x1 + 2x2\n",
    "# Subject to:\n",
    "# 2x1 + x2 <= 8\n",
    "# x1 + 2x2 <= 6\n",
    "# x1, x2 >= 0\n",
    "\n",
    "# c is the coefficients of the objective function\n",
    "# A is the matrix of coefficients of the constraints\n",
    "# b is the vector of values on the right side of the constraints\n",
    "c = np.array([5, 3.])\n",
    "A = np.array([[2, 3.], [2, 1], [1, -1]])\n",
    "b = np.array([15, 9., 3])\n",
    "\n",
    "solve_simplex(c, A, b)\n",
    "solve_scipy(c, A, b)"
   ]
  },
  {
   "cell_type": "code",
   "execution_count": 39,
   "metadata": {},
   "outputs": [
    {
     "name": "stdout",
     "output_type": "stream",
     "text": [
      "O - Solution: [2. 3. 0. 0.], Optimal value: 32.0\n",
      "S - Solution: [2. 3. 0. 0.], Optimal value: 32.0\n"
     ]
    }
   ],
   "source": [
    "c = np.array([7, 6])\n",
    "A = np.array([[2, 4], [3, 2]])\n",
    "b = np.array([16, 12])\n",
    "\n",
    "solve_simplex(c, A, b)\n",
    "solve_scipy(c, A, b)"
   ]
  },
  {
   "cell_type": "code",
   "execution_count": 40,
   "metadata": {},
   "outputs": [
    {
     "name": "stdout",
     "output_type": "stream",
     "text": [
      "O - Solution: [ 0.  5.  0.  5. 15.], Optimal value: 35.0\n",
      "S - Solution: [ 0.  5.  0.  5. 15.], Optimal value: 35.0\n"
     ]
    }
   ],
   "source": [
    "c = np.array([5, 7])\n",
    "A = np.array([[7, 3], [2, 5], [3, -1]])\n",
    "b = np.array([15, 30, 10])\n",
    "\n",
    "solve_simplex(c, A, b)\n",
    "solve_scipy(c, A, b)"
   ]
  }
 ],
 "metadata": {
  "kernelspec": {
   "display_name": ".venv",
   "language": "python",
   "name": "python3"
  },
  "language_info": {
   "codemirror_mode": {
    "name": "ipython",
    "version": 3
   },
   "file_extension": ".py",
   "mimetype": "text/x-python",
   "name": "python",
   "nbconvert_exporter": "python",
   "pygments_lexer": "ipython3",
   "version": "3.11.5"
  },
  "orig_nbformat": 4
 },
 "nbformat": 4,
 "nbformat_minor": 2
}
