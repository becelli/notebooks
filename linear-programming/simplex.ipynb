{
 "cells": [
  {
   "cell_type": "code",
   "execution_count": 16,
   "metadata": {},
   "outputs": [],
   "source": [
    "from prettytable import PrettyTable\n",
    "from fractions import Fraction\n",
    "import numpy as np\n",
    "\n",
    "\n",
    "def to_fraction(value):\n",
    "    frac = Fraction(value).limit_denominator()\n",
    "    return frac.numerator if frac.denominator == 1 else frac\n",
    "\n",
    "\n",
    "def pretty_print_aux(matrix):\n",
    "    matrix = [[to_fraction(val) for val in row] for row in matrix]\n",
    "    matrix = [[\"\" if val == 0 else val for val in row] for row in matrix]\n",
    "\n",
    "    return matrix\n",
    "\n",
    "\n",
    "def pretty_print_matrix(matrix):\n",
    "    matrix = pretty_print_aux(matrix)\n",
    "    table = PrettyTable()\n",
    "\n",
    "    for row in matrix:\n",
    "        table.add_row(row)\n",
    "\n",
    "    print(table)"
   ]
  },
  {
   "cell_type": "code",
   "execution_count": 17,
   "metadata": {},
   "outputs": [],
   "source": [
    "def pivot(matrix, pivot_row, pivot_col):\n",
    "    # Converter a matriz para numpy, para faciitar\n",
    "    matrix = np.array(matrix, dtype=float)\n",
    "\n",
    "    # Normalizar a linha pivo\n",
    "    matrix[pivot_row - 1] = matrix[pivot_row - 1] / matrix[pivot_row - 1, pivot_col - 1]\n",
    "\n",
    "    # Zerar a coluna do pivô (exceto a linha pivo)\n",
    "    for i in range(matrix.shape[0]):\n",
    "        if i != pivot_row - 1:\n",
    "            factor = matrix[i, pivot_col - 1]\n",
    "            matrix[i] -= factor * matrix[pivot_row - 1]\n",
    "\n",
    "    return matrix.tolist()"
   ]
  },
  {
   "cell_type": "code",
   "execution_count": 18,
   "metadata": {},
   "outputs": [
    {
     "name": "stdout",
     "output_type": "stream",
     "text": [
      "+---------+---------+---------+---------+---------+---------+---------+\n",
      "| Field 1 | Field 2 | Field 3 | Field 4 | Field 5 | Field 6 | Field 7 |\n",
      "+---------+---------+---------+---------+---------+---------+---------+\n",
      "|    -3   |    -2   |         |         |         |         |         |\n",
      "|    1    |    1    |    1    |         |         |         |    9    |\n",
      "|    3    |    1    |         |    1    |         |         |    18   |\n",
      "|    1    |         |         |         |    1    |         |    7    |\n",
      "|         |    1    |         |         |         |    1    |    6    |\n",
      "+---------+---------+---------+---------+---------+---------+---------+\n",
      "+---------+---------+---------+---------+---------+---------+---------+\n",
      "| Field 1 | Field 2 | Field 3 | Field 4 | Field 5 | Field 6 | Field 7 |\n",
      "+---------+---------+---------+---------+---------+---------+---------+\n",
      "|         |    -1   |         |    1    |         |         |    18   |\n",
      "|         |   2/3   |    1    |   -1/3  |         |         |    3    |\n",
      "|    1    |   1/3   |         |   1/3   |         |         |    6    |\n",
      "|         |   -1/3  |         |   -1/3  |    1    |         |    1    |\n",
      "|         |    1    |         |         |         |    1    |    6    |\n",
      "+---------+---------+---------+---------+---------+---------+---------+\n",
      "+---------+---------+---------+---------+---------+---------+---------+\n",
      "| Field 1 | Field 2 | Field 3 | Field 4 | Field 5 | Field 6 | Field 7 |\n",
      "+---------+---------+---------+---------+---------+---------+---------+\n",
      "|         |         |   3/2   |   1/2   |         |         |   45/2  |\n",
      "|         |    1    |   3/2   |   -1/2  |         |         |   9/2   |\n",
      "|    1    |         |   -1/2  |   1/2   |         |         |   9/2   |\n",
      "|         |         |   1/2   |   -1/2  |    1    |         |   5/2   |\n",
      "|         |         |   -3/2  |   1/2   |         |    1    |   3/2   |\n",
      "+---------+---------+---------+---------+---------+---------+---------+\n"
     ]
    }
   ],
   "source": [
    "matrix = [\n",
    "    [-3, -2, 0, 0, 0, 0, 0],\n",
    "    [1, 1, 1, 0, 0, 0, 9],\n",
    "    [3, 1, 0, 1, 0, 0, 18],\n",
    "    [1, 0, 0, 0, 1, 0, 7],\n",
    "    [0, 1, 0, 0, 0, 1, 6]\n",
    "]\n",
    "\n",
    "pretty_print_matrix(matrix)\n",
    "\n",
    "first_iteration = pivot(matrix, 3, 1)\n",
    "pretty_print_matrix(first_iteration)\n",
    "\n",
    "second_iteration = pivot(first_iteration, 2, 2)\n",
    "pretty_print_matrix(second_iteration)"
   ]
  }
 ],
 "metadata": {
  "kernelspec": {
   "display_name": ".venv",
   "language": "python",
   "name": "python3"
  },
  "language_info": {
   "codemirror_mode": {
    "name": "ipython",
    "version": 3
   },
   "file_extension": ".py",
   "mimetype": "text/x-python",
   "name": "python",
   "nbconvert_exporter": "python",
   "pygments_lexer": "ipython3",
   "version": "3.11.5"
  }
 },
 "nbformat": 4,
 "nbformat_minor": 2
}
