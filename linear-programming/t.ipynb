{
 "cells": [
  {
   "cell_type": "code",
   "execution_count": 1,
   "metadata": {},
   "outputs": [
    {
     "name": "stdout",
     "output_type": "stream",
     "text": [
      "      N1   N2  N3   N4\n",
      "BR1  150    0   0    0\n",
      "BR2    0    0   0  250\n",
      "BR3    0  180   0    0\n",
      "Values found during the solution: [2750, 2340, 1500]\n",
      "Total cost: 6590\n"
     ]
    }
   ],
   "source": [
    "import pandas as pd\n",
    "import numpy as np\n",
    "\n",
    "class DeliveryPlanner:\n",
    "    def __init__(self):\n",
    "        self.truck_fleet = np.array([\"Truck1\", \"Truck2\", \"Truck3\"])\n",
    "        self.stores = np.array([\"Store1\", \"Store2\", \"Store3\", \"Store4\"])\n",
    "\n",
    "        self.truck_capacity = np.array([20, 30, 25])\n",
    "        self.store_demand = np.array([15, 18, 12, 25])\n",
    "\n",
    "        self.costs = np.array([\n",
    "            [10, 15, 12, 8],\n",
    "            [10, 12, 8, 11],\n",
    "            [9, 13, 10, 14]\n",
    "        ])\n",
    "\n",
    "        self.total_costs = []\n",
    "\n",
    "    def find_max_demand_store(self, allocation):\n",
    "        return np.argmax(self.store_demand > np.sum(allocation, axis=0))\n",
    "\n",
    "    def find_max_capacity_truck(self, allocation):\n",
    "        return np.argmax(self.truck_capacity - np.sum(allocation, axis=1))\n",
    "\n",
    "    def calculate_available_capacity(self, max_capacity_truck, allocation):\n",
    "        return self.truck_capacity[max_capacity_truck] - np.sum(allocation[max_capacity_truck])\n",
    "\n",
    "    def can_meet_demand(self, max_demand_store, available_capacity):\n",
    "        return self.store_demand[max_demand_store] <= available_capacity\n",
    "\n",
    "    def assign_deliveries(self, max_capacity_truck, max_demand_store, allocation):\n",
    "        allocation[max_capacity_truck][max_demand_store] += self.store_demand[max_demand_store]\n",
    "        cost = self.store_demand[max_demand_store] * self.costs[max_capacity_truck][max_demand_store]\n",
    "        self.total_costs.append(cost)\n",
    "\n",
    "    def solve_problem(self):\n",
    "        allocation = np.zeros((len(self.truck_fleet), len(self.stores)), dtype=int)\n",
    "\n",
    "        while True:\n",
    "            max_demand_store = self.find_max_demand_store(allocation)\n",
    "            max_capacity_truck = self.find_max_capacity_truck(allocation)\n",
    "            available_capacity = self.calculate_available_capacity(max_capacity_truck, allocation)\n",
    "\n",
    "            if self.can_meet_demand(max_demand_store, available_capacity):\n",
    "                self.assign_deliveries(max_capacity_truck, max_demand_store, allocation)\n",
    "            else:\n",
    "                break\n",
    "\n",
    "        return allocation\n",
    "\n",
    "    def print_allocation_result(self):\n",
    "        allocation_result = self.solve_problem()\n",
    "        df = pd.DataFrame(allocation_result, index=self.truck_fleet, columns=self.stores)\n",
    "        print(df)\n",
    "\n",
    "    def print_total_costs(self):\n",
    "        print(f\"Values found during the solution: {self.total_costs}\")\n",
    "        total_cost = sum(self.total_costs)\n",
    "        print(f\"Total cost: {total_cost}\")\n",
    "\n",
    "\n",
    "if __name__ == \"__main__\":\n",
    "    planner = DeliveryPlanner()\n",
    "    planner.print_allocation_result()\n",
    "    planner.print_total_costs()\n"
   ]
  }
 ],
 "metadata": {
  "kernelspec": {
   "display_name": ".venv",
   "language": "python",
   "name": "python3"
  },
  "language_info": {
   "codemirror_mode": {
    "name": "ipython",
    "version": 3
   },
   "file_extension": ".py",
   "mimetype": "text/x-python",
   "name": "python",
   "nbconvert_exporter": "python",
   "pygments_lexer": "ipython3",
   "version": "3.11.5"
  }
 },
 "nbformat": 4,
 "nbformat_minor": 2
}
