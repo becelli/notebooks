{
 "cells": [
  {
   "cell_type": "code",
   "execution_count": 1,
   "metadata": {},
   "outputs": [
    {
     "name": "stdout",
     "output_type": "stream",
     "text": [
      "      N1   N2   N3  N4\n",
      "BR1    0    0  120   0\n",
      "BR2  150    0    0   0\n",
      "BR3    0  180    0   0\n",
      "Values found during the solution: [1500, 2340, 1440]\n",
      "Total cost: 5280\n"
     ]
    }
   ],
   "source": [
    "import pandas as pd\n",
    "import numpy as np\n",
    "\n",
    "class TransportPlanner:\n",
    "    def __init__(self):\n",
    "        self.bus_routes = np.array([\"BR1\", \"BR2\", \"BR3\"])\n",
    "        self.neighborhoods = np.array([\"N1\", \"N2\", \"N3\", \"N4\"])\n",
    "\n",
    "        self.bus_capacity = np.array([200, 300, 250])\n",
    "        self.neighborhood_demand = np.array([150, 180, 120, 250])\n",
    "\n",
    "        self.costs = np.array([\n",
    "            [10, 15, 12, 8],\n",
    "            [10, 12, 8, 11],\n",
    "            [9, 13, 10, 14]\n",
    "        ])\n",
    "\n",
    "        self.total_costs = []\n",
    "\n",
    "    def find_max_demand_neighborhood(self, allocation):\n",
    "        return np.argmax(self.neighborhood_demand > np.sum(allocation, axis=0))\n",
    "\n",
    "    def find_max_capacity_route(self, allocation):\n",
    "        return np.argmax(self.bus_capacity - np.sum(allocation, axis=1))\n",
    "\n",
    "    def calculate_available_capacity(self, max_capacity_route, allocation):\n",
    "        return self.bus_capacity[max_capacity_route] - np.sum(allocation[max_capacity_route])\n",
    "\n",
    "    def can_meet_demand(self, max_demand_neighborhood, available_capacity):\n",
    "        return self.neighborhood_demand[max_demand_neighborhood] <= available_capacity\n",
    "\n",
    "    def assign_buses(self, max_capacity_route, max_demand_neighborhood, allocation):\n",
    "        allocation[max_capacity_route][max_demand_neighborhood] += self.neighborhood_demand[max_demand_neighborhood]\n",
    "        cost = self.neighborhood_demand[max_demand_neighborhood] * self.costs[max_capacity_route][max_demand_neighborhood]\n",
    "        self.total_costs.append(cost)\n",
    "\n",
    "    def solve_problem(self):\n",
    "        allocation = np.zeros((len(self.bus_routes), len(self.neighborhoods)), dtype=int)\n",
    "\n",
    "        while True:\n",
    "            max_demand_neighborhood = self.find_max_demand_neighborhood(allocation)\n",
    "            max_capacity_route = self.find_max_capacity_route(allocation)\n",
    "            available_capacity = self.calculate_available_capacity(max_capacity_route, allocation)\n",
    "\n",
    "            if self.can_meet_demand(max_demand_neighborhood, available_capacity):\n",
    "                self.assign_buses(max_capacity_route, max_demand_neighborhood, allocation)\n",
    "            else:\n",
    "                break\n",
    "\n",
    "        return allocation\n",
    "\n",
    "    def print_allocation_result(self):\n",
    "        allocation_result = self.solve_problem()\n",
    "        df = pd.DataFrame(allocation_result, index=self.bus_routes, columns=self.neighborhoods)\n",
    "        print(df)\n",
    "\n",
    "    def print_total_costs(self):\n",
    "        print(f\"Values found during the solution: {self.total_costs}\")\n",
    "        total_cost = sum(self.total_costs)\n",
    "        print(f\"Total cost: {total_cost}\")\n",
    "\n",
    "\n",
    "if __name__ == \"__main__\":\n",
    "    planner = TransportPlanner()\n",
    "    planner.print_allocation_result()\n",
    "    planner.print_total_costs()\n"
   ]
  }
 ],
 "metadata": {
  "kernelspec": {
   "display_name": ".venv",
   "language": "python",
   "name": "python3"
  },
  "language_info": {
   "codemirror_mode": {
    "name": "ipython",
    "version": 3
   },
   "file_extension": ".py",
   "mimetype": "text/x-python",
   "name": "python",
   "nbconvert_exporter": "python",
   "pygments_lexer": "ipython3",
   "version": "3.11.5"
  }
 },
 "nbformat": 4,
 "nbformat_minor": 2
}
