{
 "cells": [
  {
   "cell_type": "markdown",
   "metadata": {},
   "source": [
    "# KMeans\n"
   ]
  },
  {
   "cell_type": "code",
   "execution_count": 1,
   "metadata": {},
   "outputs": [],
   "source": [
    "import numpy as np\n",
    "import numpy.linalg as la\n",
    "import matplotlib.pyplot as plt\n"
   ]
  },
  {
   "cell_type": "code",
   "execution_count": 2,
   "metadata": {},
   "outputs": [],
   "source": [
    "def kmeans(input, k):\n",
    "    centroids = np.random.rand(k, 2)\n",
    "    groups = None\n",
    "\n",
    "    for _ in range(10):\n",
    "        groups = [[] for i in range(k)]\n",
    "\n",
    "        for data in range(len(input)):\n",
    "            min_distance = np.inf\n",
    "            center_index = -1\n",
    "\n",
    "            for c in range(k):\n",
    "                distance = la.norm(centroids[c] - input[data])\n",
    "                if distance < min_distance:\n",
    "                    min_distance = distance\n",
    "                    center_index = c\n",
    "\n",
    "            groups[center_index].append(input[data])\n",
    "\n",
    "        for c in range(k):\n",
    "            if len(groups[c]) > 0:\n",
    "                centroids[c] = np.mean(groups[c], axis=0)\n",
    "    return centroids, groups\n"
   ]
  },
  {
   "cell_type": "code",
   "execution_count": 3,
   "metadata": {},
   "outputs": [],
   "source": [
    "def generate_random_points(dots):\n",
    "\n",
    "    x = np.random.rand(dots)\n",
    "    y = np.random.rand(dots)\n",
    "    return np.vstack((x, y)).T\n"
   ]
  },
  {
   "cell_type": "code",
   "execution_count": 4,
   "metadata": {},
   "outputs": [],
   "source": [
    "def points():\n",
    "    x = [-1, 0, 0, 1, -6, -5, -5, -4, 7, 8, 8, 9]\n",
    "    y = [0, -1, 1, 0, -5, -6, -4, -5, -2, -3, -1, -2]\n",
    "    return np.vstack((x, y)).T\n"
   ]
  },
  {
   "cell_type": "code",
   "execution_count": 5,
   "metadata": {},
   "outputs": [
    {
     "data": {
      "image/png": "[encoded data removed]",
      "text/plain": [
       "<Figure size 432x288 with 1 Axes>"
      ]
     },
     "metadata": {
      "needs_background": "light"
     },
     "output_type": "display_data"
    }
   ],
   "source": [
    "# data = generate_random_points(100)\n",
    "data = points()\n",
    "_ = plt.scatter(data[:, 0], data[:, 1])\n"
   ]
  },
  {
   "cell_type": "code",
   "execution_count": 6,
   "metadata": {},
   "outputs": [],
   "source": [
    "centroids, groups = kmeans(data, 3)\n"
   ]
  },
  {
   "cell_type": "code",
   "execution_count": 7,
   "metadata": {},
   "outputs": [
    {
     "data": {
      "image/png": "[encoded data removed]",
      "text/plain": [
       "<Figure size 432x288 with 1 Axes>"
      ]
     },
     "metadata": {
      "needs_background": "light"
     },
     "output_type": "display_data"
    }
   ],
   "source": [
    "for g in groups:\n",
    "    if len(g) > 0:\n",
    "        group = np.array(g)\n",
    "        plt.scatter(group[:, 0], group[:, 1])\n",
    "_ = plt.scatter(centroids[:, 0], centroids[:, 1], c=\"black\")\n"
   ]
  }
 ],
 "metadata": {
  "interpreter": {
   "hash": "e7370f93d1d0cde622a1f8e1c04877d8463912d04d973331ad4851f04de6915a"
  },
  "kernelspec": {
   "display_name": "Python 3.10.1 64-bit",
   "language": "python",
   "name": "python3"
  },
  "language_info": {
   "codemirror_mode": {
    "name": "ipython",
    "version": 3
   },
   "file_extension": ".py",
   "mimetype": "text/x-python",
   "name": "python",
   "nbconvert_exporter": "python",
   "pygments_lexer": "ipython3",
   "version": "3.10.1"
  },
  "orig_nbformat": 4
 },
 "nbformat": 4,
 "nbformat_minor": 2
}
