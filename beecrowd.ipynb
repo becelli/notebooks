{
 "cells": [
  {
   "cell_type": "markdown",
   "metadata": {},
   "source": [
    "## 1st exercises list\n"
   ]
  },
  {
   "cell_type": "markdown",
   "metadata": {},
   "source": [
    "#### Beecrowd 1103 - Alarm Clock\n"
   ]
  },
  {
   "cell_type": "code",
   "execution_count": null,
   "metadata": {},
   "outputs": [],
   "source": [
    "while True:\n",
    "    ih, im, fh, fm = map(int, input().split())\n",
    "    if ih == im == fh == fm == 0.0:\n",
    "        break\n",
    "    inith = ih * 60 + im\n",
    "    finalh = fh * 60 + fm\n",
    "    gap = finalh - inith\n",
    "    rested = gap if finalh > inith else gap % 1440\n",
    "    print(rested)\n"
   ]
  },
  {
   "cell_type": "markdown",
   "metadata": {},
   "source": [
    "#### Beecrowd 1104 - Exchanging Cards\n"
   ]
  },
  {
   "cell_type": "code",
   "execution_count": null,
   "metadata": {},
   "outputs": [],
   "source": [
    "while True:\n",
    "    a, b = input().split()\n",
    "    if a == b == \"0\":\n",
    "        break\n",
    "    a = [int(x) for x in input().split()]\n",
    "    b = [int(x) for x in input().split()]\n",
    "    a, b = set(a), set(b)\n",
    "    c = b\n",
    "    if len(a) < len(b):\n",
    "        c, a = a, b\n",
    "    t = [x for x in c if x not in a]\n",
    "    print(len(t))\n"
   ]
  },
  {
   "cell_type": "markdown",
   "metadata": {},
   "source": [
    "#### Beecrowd 1110 - Throwing cards away\n"
   ]
  },
  {
   "cell_type": "code",
   "execution_count": null,
   "metadata": {},
   "outputs": [],
   "source": [
    "while True:\n",
    "    n = int(input())\n",
    "    if n == 0:\n",
    "        break\n",
    "    deck = [int(x) for x in range(1, n + 1)]\n",
    "    throws = []\n",
    "    for i in range(n):\n",
    "        if len(deck) >= 2:\n",
    "            throws.append(deck.pop(0))\n",
    "            deck = deck[1:] + deck[0:1]\n",
    "        else:\n",
    "            break\n",
    "    print(\"Discarded cards:\", str(throws).replace(\"[\", \"\").replace(\"]\", \"\"))\n",
    "    print(\"Remaining card:\", deck[0])\n"
   ]
  },
  {
   "cell_type": "markdown",
   "metadata": {},
   "source": [
    "#### Beecrowd 1259 - Even and Odd\n"
   ]
  },
  {
   "cell_type": "code",
   "execution_count": null,
   "metadata": {},
   "outputs": [],
   "source": [
    "n = int(input())\n",
    "even = []\n",
    "odd = []\n",
    "for i in range(n):\n",
    "    num = int(input())\n",
    "    if num % 2 == 0:\n",
    "        even.append(num)\n",
    "    else:\n",
    "        odd.append(num)\n",
    "\n",
    "even.sort()\n",
    "odd.sort()\n",
    "odd.reverse()\n",
    "for i in even:\n",
    "    print(str(i) + \"\\n\", end=\"\")\n",
    "for i in odd:\n",
    "    print(str(i) + \"\\n\", end=\"\")\n"
   ]
  },
  {
   "cell_type": "markdown",
   "metadata": {},
   "source": [
    "#### Beecrowd 2381 - Lista de chamada\n"
   ]
  },
  {
   "cell_type": "code",
   "execution_count": null,
   "metadata": {},
   "outputs": [],
   "source": [
    "n, k = map(int, input().split())\n",
    "names = []\n",
    "for i in range(n):\n",
    "    names.append(input())\n",
    "names.sort()\n",
    "print(names[k - 1])\n"
   ]
  }
 ],
 "metadata": {
  "interpreter": {
   "hash": "31f2aee4e71d21fbe5cf8b01ff0e069b9275f58929596ceb00d14d90e3e16cd6"
  },
  "kernelspec": {
   "display_name": "Python 3.10.1 64-bit",
   "language": "python",
   "name": "python3"
  },
  "language_info": {
   "codemirror_mode": {
    "name": "ipython",
    "version": 3
   },
   "file_extension": ".py",
   "mimetype": "text/x-python",
   "name": "python",
   "nbconvert_exporter": "python",
   "pygments_lexer": "ipython3",
   "version": "3.10.1"
  },
  "orig_nbformat": 4
 },
 "nbformat": 4,
 "nbformat_minor": 2
}
